{
 "cells": [
  {
   "cell_type": "code",
   "execution_count": 6,
   "metadata": {},
   "outputs": [
    {
     "ename": "ValueError",
     "evalue": "invalid literal for int() with base 10: ''",
     "output_type": "error",
     "traceback": [
      "\u001b[1;31m---------------------------------------------------------------------------\u001b[0m",
      "\u001b[1;31mValueError\u001b[0m                                Traceback (most recent call last)",
      "Cell \u001b[1;32mIn[6], line 2\u001b[0m\n\u001b[0;32m      1\u001b[0m a \u001b[38;5;241m=\u001b[39m \u001b[38;5;28minput\u001b[39m(\u001b[38;5;124m\"\u001b[39m\u001b[38;5;124menter name\u001b[39m\u001b[38;5;124m\"\u001b[39m)\n\u001b[1;32m----> 2\u001b[0m \u001b[38;5;28;43mint\u001b[39;49m\u001b[43m(\u001b[49m\u001b[43ma\u001b[49m\u001b[43m)\u001b[49m\n\u001b[0;32m      3\u001b[0m \u001b[38;5;28mprint\u001b[39m(a)\n",
      "\u001b[1;31mValueError\u001b[0m: invalid literal for int() with base 10: ''"
     ]
    }
   ],
   "source": [
    "a = input(\"enter name\")\n",
    "int(a)\n",
    "print(a)\n"
   ]
  },
  {
   "cell_type": "code",
   "execution_count": null,
   "metadata": {},
   "outputs": [
    {
     "name": "stdout",
     "output_type": "stream",
     "text": [
      "The input is not a valid number.\n"
     ]
    }
   ],
   "source": [
    "# Get input from the user\n",
    "a = input(\"Enter a number: \")\n",
    "\n",
    "# Convert the string input to a float\n",
    "try:\n",
    "    a = float(a)\n",
    "    print(f\"The numeric value is: {a}\")\n",
    "except ValueError:\n",
    "    print(\"The input is not a valid number.\")\n"
   ]
  },
  {
   "cell_type": "code",
   "execution_count": null,
   "metadata": {},
   "outputs": [
    {
     "name": "stdout",
     "output_type": "stream",
     "text": [
      "The input is not a valid integer.\n"
     ]
    }
   ],
   "source": [
    "# Get input from the user\n",
    "a = input(\"Enter a number: \")\n",
    "\n",
    "# Convert the string input to an integer\n",
    "try:\n",
    "    number = int(a)\n",
    "    print(f\"The integer value is: {number}\")\n",
    "except ValueError:\n",
    "    print(\"The input is not a valid integer.\")\n"
   ]
  },
  {
   "cell_type": "code",
   "execution_count": null,
   "metadata": {},
   "outputs": [
    {
     "name": "stdout",
     "output_type": "stream",
     "text": [
      "chita shrivastava\n",
      "chita babes\n"
     ]
    }
   ],
   "source": [
    "name = \"chita babes\"\n",
    "print(name.replace(\"babes\",\"shrivastava\"))\n",
    "print(name)"
   ]
  },
  {
   "cell_type": "code",
   "execution_count": null,
   "metadata": {},
   "outputs": [
    {
     "name": "stdout",
     "output_type": "stream",
     "text": [
      "9\n"
     ]
    }
   ],
   "source": [
    "n = int(input(\"enter number\"))\n",
    "m = int(input(\"enter number\"))\n",
    "op = input(\"enter (+,-,*,/) :\")\n",
    "\n",
    "if op == \"+\" :\n",
    "    print(n + m)\n",
    "elif  op == \"-\":\n",
    "    print(n-m)\n",
    "elif op == \"/\":\n",
    "    print(n/m)  \n",
    "elif op ==\"*\":\n",
    "    print(n*m)  \n",
    "else :\n",
    "    print(\"invalid operation\")\n"
   ]
  },
  {
   "cell_type": "code",
   "execution_count": null,
   "metadata": {},
   "outputs": [
    {
     "name": "stdout",
     "output_type": "stream",
     "text": [
      "Select operation\n",
      "1. Add\n",
      "2. Sub\n",
      "3. Mult\n",
      "4. Div\n"
     ]
    }
   ],
   "source": [
    "def calculator():\n",
    "    print(\"Select operation\")\n",
    "    print(\"1. Add\")\n",
    "    print(\"2. Sub\")\n",
    "    print(\"3. Mult\")\n",
    "    print(\"4. Div\")\n",
    "    operator = input(\"Enter choice (1/2/3/4): \")\n",
    "    if operator in ['1', '2', '3', '4']:\n",
    "        num1 = float(input(\"Enter first number: \"))\n",
    "        num2 = float(input(\"Enter second number: \"))\n",
    "\n",
    "        if operator == '1':\n",
    "            print(f\"{num1} + {num2} = {num1 + num2}\")\n",
    "\n",
    "        elif operator == '2':\n",
    "            print(f\"{num1} - {num2} = {num1 - num2}\")\n",
    "\n",
    "        elif operator == '3':\n",
    "            print(f\"{num1} * {num2} = {num1 * num2}\")\n",
    "\n",
    "        elif operator == '4':\n",
    "            if num2 != 0:\n",
    "                print(f\"{num1} / {num2} = {num1 / num2}\")\n",
    "            else:\n",
    "                print(\"Error! Division by zero.\")\n",
    "\n",
    "    else:\n",
    "        print(\"Invalid input\")\n",
    "\n",
    "calculator()"
   ]
  },
  {
   "cell_type": "code",
   "execution_count": null,
   "metadata": {},
   "outputs": [],
   "source": [
    "\n",
    "# n = int(input(\"Enter a number: \"))\n",
    "\n",
    "\n",
    "# for i in range(n):\n",
    "#     n += 1\n",
    "#     print(n)\n"
   ]
  },
  {
   "cell_type": "code",
   "execution_count": null,
   "metadata": {},
   "outputs": [],
   "source": [
    "# name = input(\"what is your name\")\n"
   ]
  },
  {
   "cell_type": "code",
   "execution_count": null,
   "metadata": {},
   "outputs": [
    {
     "name": "stdout",
     "output_type": "stream",
     "text": [
      "1\n",
      "2\n",
      "3\n",
      "4\n",
      "5\n"
     ]
    }
   ],
   "source": [
    "i = 1\n",
    "while i <= 5:\n",
    "    print(i)\n",
    "    i = i + 1\n"
   ]
  },
  {
   "cell_type": "code",
   "execution_count": null,
   "metadata": {},
   "outputs": [
    {
     "name": "stdout",
     "output_type": "stream",
     "text": [
      "sam\n",
      "kisn\n",
      "rada\n",
      "gopi\n"
     ]
    }
   ],
   "source": [
    "students = [\"ram\", \"sam\", \"kisn\", \"rada\", \"gopi\"]\n",
    "for student in students:\n",
    "    if student == \"ram\":\n",
    "        continue\n",
    "    print(student)\n"
   ]
  },
  {
   "cell_type": "code",
   "execution_count": null,
   "metadata": {},
   "outputs": [
    {
     "ename": "TypeError",
     "evalue": "'str' object is not callable",
     "output_type": "error",
     "traceback": [
      "\u001b[1;31m---------------------------------------------------------------------------\u001b[0m",
      "\u001b[1;31mTypeError\u001b[0m                                 Traceback (most recent call last)",
      "Cell \u001b[1;32mIn[5], line 2\u001b[0m\n\u001b[0;32m      1\u001b[0m \u001b[38;5;28mstr\u001b[39m \u001b[38;5;241m=\u001b[39m \u001b[38;5;124m\"\u001b[39m\u001b[38;5;124mi am happy\u001b[39m\u001b[38;5;124m\"\u001b[39m\n\u001b[1;32m----> 2\u001b[0m \u001b[38;5;28;43mprint\u001b[39;49m\u001b[43m(\u001b[49m\u001b[38;5;28;43mstr\u001b[39;49m\u001b[43m[\u001b[49m\u001b[38;5;241;43m0\u001b[39;49m\u001b[43m:\u001b[49m\u001b[38;5;241;43m4\u001b[39;49m\u001b[43m]\u001b[49m\u001b[43m)\u001b[49m\n",
      "\u001b[1;31mTypeError\u001b[0m: 'str' object is not callable"
     ]
    }
   ],
   "source": [
    "\n",
    "str = \"i am happy\"\n",
    "print(str[0:4])"
   ]
  }
 ],
 "metadata": {
  "kernelspec": {
   "display_name": "Python 3",
   "language": "python",
   "name": "python3"
  },
  "language_info": {
   "codemirror_mode": {
    "name": "ipython",
    "version": 3
   },
   "file_extension": ".py",
   "mimetype": "text/x-python",
   "name": "python",
   "nbconvert_exporter": "python",
   "pygments_lexer": "ipython3",
   "version": "3.12.4"
  }
 },
 "nbformat": 4,
 "nbformat_minor": 2
}
